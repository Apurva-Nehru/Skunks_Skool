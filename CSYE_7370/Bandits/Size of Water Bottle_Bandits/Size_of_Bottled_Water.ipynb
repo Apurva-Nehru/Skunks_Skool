{
 "cells": [
  {
   "cell_type": "markdown",
   "id": "f43468d0",
   "metadata": {},
   "source": [
    "### TO FIND THE BESASELL SIZE OF BOTTLED WATER"
   ]
  },
  {
   "cell_type": "code",
   "execution_count": 33,
   "id": "1f7b7cc6",
   "metadata": {},
   "outputs": [],
   "source": [
    "import numpy as np\n",
    "import matplotlib.pyplot as plt\n",
    "from pdb import set_trace\n",
    "import random"
   ]
  },
  {
   "cell_type": "code",
   "execution_count": 90,
   "id": "2a61c296",
   "metadata": {},
   "outputs": [],
   "source": [
    "stationary=True\n",
    "class Bandit():\n",
    "    \"\"\"\n",
    "    Multi-armed bandit with rewards 1 or 0.\n",
    "    \n",
    "    At initialization, multiple arms are created. The probability of each arm\n",
    "    returning reward 1 if pulled is sampled from Bernouilli(p), where p randomly\n",
    "    chosen from Uniform(0,1) at initialization\n",
    "    \"\"\"\n",
    "    def __init__(self, arm_count):\n",
    "        self.arm_count = arm_count\n",
    "        self.theta = self.generate_thetas()\n",
    "        self.timestep = 0\n",
    "        global stationary\n",
    "        self.stationary = stationary\n",
    "        \n",
    "    def generate_thetas(self):\n",
    "        return np.random.uniform(0,1,self.arm_count)\n",
    "#         self.thetas = np.random.uniform(0,1,self.arm_count)\n",
    "        \n",
    "    def get_reward_regret(self, arm):\n",
    "\n",
    "        self.timestep += 1\n",
    "        if (self.stationary == False) and (self.timestep%100 == 0) :\n",
    "            self.generate_thetas()\n",
    "        # Simulate bernouilli sampling\n",
    "        sim = np.random.uniform(0,1,self.arm_count)\n",
    "        rewards = (sim < self.thetas).astype(int)\n",
    "        reward = rewards[arm]\n",
    "        regret = self.thetas.max() - self.thetas[arm]\n",
    "\n",
    "        return reward, regret\n"
   ]
  },
  {
   "cell_type": "code",
   "execution_count": 104,
   "id": "1eae4adb",
   "metadata": {},
   "outputs": [
    {
     "name": "stdout",
     "output_type": "stream",
     "text": [
      "[0.49184404 0.91044122 0.37488368]\n"
     ]
    }
   ],
   "source": [
    "a = Bandit(3)\n",
    "print(a.theta)\n"
   ]
  },
  {
   "cell_type": "code",
   "execution_count": 118,
   "id": "c2bbaf2b",
   "metadata": {},
   "outputs": [
    {
     "name": "stdout",
     "output_type": "stream",
     "text": [
      "[0.49184404 0.91044122 0.37488368]\n"
     ]
    }
   ],
   "source": [
    "print(a.theta)"
   ]
  }
 ],
 "metadata": {
  "kernelspec": {
   "display_name": "Python 3 (ipykernel)",
   "language": "python",
   "name": "python3"
  },
  "language_info": {
   "codemirror_mode": {
    "name": "ipython",
    "version": 3
   },
   "file_extension": ".py",
   "mimetype": "text/x-python",
   "name": "python",
   "nbconvert_exporter": "python",
   "pygments_lexer": "ipython3",
   "version": "3.9.12"
  }
 },
 "nbformat": 4,
 "nbformat_minor": 5
}
